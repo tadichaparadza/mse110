{
 "cells": [
  {
   "cell_type": "code",
   "execution_count": 31,
   "id": "46452b06-9e50-48c4-a9f8-eae71de57f57",
   "metadata": {},
   "outputs": [
    {
     "name": "stdout",
     "output_type": "stream",
     "text": [
      "^C\n",
      "Note: you may need to restart the kernel to use updated packages.\n",
      "Requirement already satisfied: mp-api in c:\\users\\tadic\\anaconda3\\envs\\jupyter\\lib\\site-packages (0.43.0)\n",
      "Requirement already satisfied: pandas in c:\\users\\tadic\\anaconda3\\envs\\jupyter\\lib\\site-packages (2.2.3)\n",
      "Requirement already satisfied: matplotlib in c:\\users\\tadic\\anaconda3\\envs\\jupyter\\lib\\site-packages (3.10.0)\n",
      "Requirement already satisfied: setuptools in c:\\users\\tadic\\anaconda3\\envs\\jupyter\\lib\\site-packages (from mp-api) (72.1.0)\n",
      "Requirement already satisfied: msgpack in c:\\users\\tadic\\anaconda3\\envs\\jupyter\\lib\\site-packages (from mp-api) (1.0.3)\n",
      "Requirement already satisfied: maggma>=0.57.1 in c:\\users\\tadic\\anaconda3\\envs\\jupyter\\lib\\site-packages (from mp-api) (0.71.5)\n",
      "Requirement already satisfied: pymatgen!=2024.2.20,>=2022.3.7 in c:\\users\\tadic\\anaconda3\\envs\\jupyter\\lib\\site-packages (from mp-api) (2024.10.3)\n",
      "Requirement already satisfied: typing-extensions>=3.7.4.1 in c:\\users\\tadic\\anaconda3\\envs\\jupyter\\lib\\site-packages (from mp-api) (4.12.2)\n",
      "Requirement already satisfied: requests>=2.23.0 in c:\\users\\tadic\\anaconda3\\envs\\jupyter\\lib\\site-packages (from mp-api) (2.32.3)\n",
      "Requirement already satisfied: monty>=2023.9.25 in c:\\users\\tadic\\anaconda3\\envs\\jupyter\\lib\\site-packages (from mp-api) (2025.3.3)\n",
      "Requirement already satisfied: emmet-core>=0.78.0rc3 in c:\\users\\tadic\\anaconda3\\envs\\jupyter\\lib\\site-packages (from mp-api) (0.83.6)\n",
      "Requirement already satisfied: smart_open in c:\\users\\tadic\\anaconda3\\envs\\jupyter\\lib\\site-packages (from mp-api) (7.1.0)\n",
      "Requirement already satisfied: numpy>=1.26.0 in c:\\users\\tadic\\anaconda3\\envs\\jupyter\\lib\\site-packages (from pandas) (2.2.4)\n",
      "Requirement already satisfied: python-dateutil>=2.8.2 in c:\\users\\tadic\\anaconda3\\envs\\jupyter\\lib\\site-packages (from pandas) (2.9.0.post0)\n",
      "Requirement already satisfied: pytz>=2020.1 in c:\\users\\tadic\\anaconda3\\envs\\jupyter\\lib\\site-packages (from pandas) (2024.1)\n",
      "Requirement already satisfied: tzdata>=2022.7 in c:\\users\\tadic\\anaconda3\\envs\\jupyter\\lib\\site-packages (from pandas) (2023.3)\n",
      "Requirement already satisfied: contourpy>=1.0.1 in c:\\users\\tadic\\anaconda3\\envs\\jupyter\\lib\\site-packages (from matplotlib) (1.3.1)\n",
      "Requirement already satisfied: cycler>=0.10 in c:\\users\\tadic\\anaconda3\\envs\\jupyter\\lib\\site-packages (from matplotlib) (0.11.0)\n",
      "Requirement already satisfied: fonttools>=4.22.0 in c:\\users\\tadic\\anaconda3\\envs\\jupyter\\lib\\site-packages (from matplotlib) (4.55.3)\n",
      "Requirement already satisfied: kiwisolver>=1.3.1 in c:\\users\\tadic\\anaconda3\\envs\\jupyter\\lib\\site-packages (from matplotlib) (1.4.8)\n",
      "Requirement already satisfied: packaging>=20.0 in c:\\users\\tadic\\anaconda3\\envs\\jupyter\\lib\\site-packages (from matplotlib) (24.2)\n",
      "Requirement already satisfied: pillow>=8 in c:\\users\\tadic\\anaconda3\\envs\\jupyter\\lib\\site-packages (from matplotlib) (11.1.0)\n",
      "Requirement already satisfied: pyparsing>=2.3.1 in c:\\users\\tadic\\anaconda3\\envs\\jupyter\\lib\\site-packages (from matplotlib) (3.2.0)\n",
      "Requirement already satisfied: pydantic>=2.0 in c:\\users\\tadic\\anaconda3\\envs\\jupyter\\lib\\site-packages (from emmet-core>=0.78.0rc3->mp-api) (2.10.3)\n",
      "Requirement already satisfied: pydantic-settings>=2.0 in c:\\users\\tadic\\anaconda3\\envs\\jupyter\\lib\\site-packages (from emmet-core>=0.78.0rc3->mp-api) (2.6.1)\n",
      "Requirement already satisfied: pybtex~=0.24 in c:\\users\\tadic\\anaconda3\\envs\\jupyter\\lib\\site-packages (from emmet-core>=0.78.0rc3->mp-api) (0.24.0)\n",
      "Requirement already satisfied: ruamel.yaml>=0.17 in c:\\users\\tadic\\anaconda3\\envs\\jupyter\\lib\\site-packages (from maggma>=0.57.1->mp-api) (0.18.10)\n",
      "Requirement already satisfied: pymongo<4.11,>=4.2.0 in c:\\users\\tadic\\anaconda3\\envs\\jupyter\\lib\\site-packages (from maggma>=0.57.1->mp-api) (4.8.0)\n",
      "Requirement already satisfied: mongomock>=3.10.0 in c:\\users\\tadic\\anaconda3\\envs\\jupyter\\lib\\site-packages (from maggma>=0.57.1->mp-api) (4.3.0)\n",
      "Requirement already satisfied: pydash>=4.1.0 in c:\\users\\tadic\\anaconda3\\envs\\jupyter\\lib\\site-packages (from maggma>=0.57.1->mp-api) (8.0.5)\n",
      "Requirement already satisfied: jsonschema>=3.1.1 in c:\\users\\tadic\\anaconda3\\envs\\jupyter\\lib\\site-packages (from maggma>=0.57.1->mp-api) (4.23.0)\n",
      "Requirement already satisfied: tqdm>=4.19.6 in c:\\users\\tadic\\anaconda3\\envs\\jupyter\\lib\\site-packages (from maggma>=0.57.1->mp-api) (4.67.1)\n",
      "Requirement already satisfied: jsonlines>=4.0.0 in c:\\users\\tadic\\anaconda3\\envs\\jupyter\\lib\\site-packages (from maggma>=0.57.1->mp-api) (4.0.0)\n",
      "Requirement already satisfied: aioitertools>=0.5.1 in c:\\users\\tadic\\anaconda3\\envs\\jupyter\\lib\\site-packages (from maggma>=0.57.1->mp-api) (0.7.1)\n",
      "Requirement already satisfied: pyzmq>=25.1.1 in c:\\users\\tadic\\anaconda3\\envs\\jupyter\\lib\\site-packages (from maggma>=0.57.1->mp-api) (26.2.0)\n",
      "Requirement already satisfied: dnspython>=1.16.0 in c:\\users\\tadic\\anaconda3\\envs\\jupyter\\lib\\site-packages (from maggma>=0.57.1->mp-api) (2.4.2)\n",
      "Requirement already satisfied: sshtunnel>=0.1.5 in c:\\users\\tadic\\anaconda3\\envs\\jupyter\\lib\\site-packages (from maggma>=0.57.1->mp-api) (0.4.0)\n",
      "Requirement already satisfied: orjson>=3.9.0 in c:\\users\\tadic\\anaconda3\\envs\\jupyter\\lib\\site-packages (from maggma>=0.57.1->mp-api) (3.10.14)\n",
      "Requirement already satisfied: boto3>=1.20.41 in c:\\users\\tadic\\anaconda3\\envs\\jupyter\\lib\\site-packages (from maggma>=0.57.1->mp-api) (1.37.10)\n",
      "Requirement already satisfied: joblib>=1 in c:\\users\\tadic\\anaconda3\\envs\\jupyter\\lib\\site-packages (from pymatgen!=2024.2.20,>=2022.3.7->mp-api) (1.4.2)\n",
      "Requirement already satisfied: networkx>=2.2 in c:\\users\\tadic\\anaconda3\\envs\\jupyter\\lib\\site-packages (from pymatgen!=2024.2.20,>=2022.3.7->mp-api) (3.4.2)\n",
      "Requirement already satisfied: palettable>=3.3.3 in c:\\users\\tadic\\anaconda3\\envs\\jupyter\\lib\\site-packages (from pymatgen!=2024.2.20,>=2022.3.7->mp-api) (3.3.3)\n",
      "Requirement already satisfied: plotly>=4.5.0 in c:\\users\\tadic\\anaconda3\\envs\\jupyter\\lib\\site-packages (from pymatgen!=2024.2.20,>=2022.3.7->mp-api) (6.0.1)\n",
      "Requirement already satisfied: scipy>=1.13.0 in c:\\users\\tadic\\anaconda3\\envs\\jupyter\\lib\\site-packages (from pymatgen!=2024.2.20,>=2022.3.7->mp-api) (1.15.2)\n",
      "Requirement already satisfied: spglib>=2.5.0 in c:\\users\\tadic\\anaconda3\\envs\\jupyter\\lib\\site-packages (from pymatgen!=2024.2.20,>=2022.3.7->mp-api) (2.6.0)\n",
      "Requirement already satisfied: sympy>=1.2 in c:\\users\\tadic\\anaconda3\\envs\\jupyter\\lib\\site-packages (from pymatgen!=2024.2.20,>=2022.3.7->mp-api) (1.13.3)\n",
      "Requirement already satisfied: tabulate>=0.9 in c:\\users\\tadic\\anaconda3\\envs\\jupyter\\lib\\site-packages (from pymatgen!=2024.2.20,>=2022.3.7->mp-api) (0.9.0)\n",
      "Requirement already satisfied: uncertainties>=3.1.4 in c:\\users\\tadic\\anaconda3\\envs\\jupyter\\lib\\site-packages (from pymatgen!=2024.2.20,>=2022.3.7->mp-api) (3.2.3)\n",
      "Requirement already satisfied: six>=1.5 in c:\\users\\tadic\\anaconda3\\envs\\jupyter\\lib\\site-packages (from python-dateutil>=2.8.2->pandas) (1.16.0)\n",
      "Requirement already satisfied: charset-normalizer<4,>=2 in c:\\users\\tadic\\anaconda3\\envs\\jupyter\\lib\\site-packages (from requests>=2.23.0->mp-api) (3.3.2)\n",
      "Requirement already satisfied: idna<4,>=2.5 in c:\\users\\tadic\\anaconda3\\envs\\jupyter\\lib\\site-packages (from requests>=2.23.0->mp-api) (3.7)\n",
      "Requirement already satisfied: urllib3<3,>=1.21.1 in c:\\users\\tadic\\anaconda3\\envs\\jupyter\\lib\\site-packages (from requests>=2.23.0->mp-api) (2.3.0)\n",
      "Requirement already satisfied: certifi>=2017.4.17 in c:\\users\\tadic\\anaconda3\\envs\\jupyter\\lib\\site-packages (from requests>=2.23.0->mp-api) (2025.4.26)\n",
      "Requirement already satisfied: wrapt in c:\\users\\tadic\\anaconda3\\envs\\jupyter\\lib\\site-packages (from smart_open->mp-api) (1.17.0)\n",
      "Requirement already satisfied: botocore<1.38.0,>=1.37.10 in c:\\users\\tadic\\anaconda3\\envs\\jupyter\\lib\\site-packages (from boto3>=1.20.41->maggma>=0.57.1->mp-api) (1.37.10)\n",
      "Requirement already satisfied: jmespath<2.0.0,>=0.7.1 in c:\\users\\tadic\\anaconda3\\envs\\jupyter\\lib\\site-packages (from boto3>=1.20.41->maggma>=0.57.1->mp-api) (1.0.1)\n",
      "Requirement already satisfied: s3transfer<0.12.0,>=0.11.0 in c:\\users\\tadic\\anaconda3\\envs\\jupyter\\lib\\site-packages (from boto3>=1.20.41->maggma>=0.57.1->mp-api) (0.11.2)\n",
      "Requirement already satisfied: attrs>=19.2.0 in c:\\users\\tadic\\anaconda3\\envs\\jupyter\\lib\\site-packages (from jsonlines>=4.0.0->maggma>=0.57.1->mp-api) (24.3.0)\n",
      "Requirement already satisfied: jsonschema-specifications>=2023.03.6 in c:\\users\\tadic\\anaconda3\\envs\\jupyter\\lib\\site-packages (from jsonschema>=3.1.1->maggma>=0.57.1->mp-api) (2023.7.1)\n",
      "Requirement already satisfied: referencing>=0.28.4 in c:\\users\\tadic\\anaconda3\\envs\\jupyter\\lib\\site-packages (from jsonschema>=3.1.1->maggma>=0.57.1->mp-api) (0.30.2)\n",
      "Requirement already satisfied: rpds-py>=0.7.1 in c:\\users\\tadic\\anaconda3\\envs\\jupyter\\lib\\site-packages (from jsonschema>=3.1.1->maggma>=0.57.1->mp-api) (0.22.3)\n",
      "Requirement already satisfied: sentinels in c:\\users\\tadic\\anaconda3\\envs\\jupyter\\lib\\site-packages (from mongomock>=3.10.0->maggma>=0.57.1->mp-api) (1.0.0)\n",
      "Requirement already satisfied: narwhals>=1.15.1 in c:\\users\\tadic\\anaconda3\\envs\\jupyter\\lib\\site-packages (from plotly>=4.5.0->pymatgen!=2024.2.20,>=2022.3.7->mp-api) (1.31.0)\n",
      "Requirement already satisfied: PyYAML>=3.01 in c:\\users\\tadic\\anaconda3\\envs\\jupyter\\lib\\site-packages (from pybtex~=0.24->emmet-core>=0.78.0rc3->mp-api) (6.0.2)\n",
      "Requirement already satisfied: latexcodec>=1.0.4 in c:\\users\\tadic\\anaconda3\\envs\\jupyter\\lib\\site-packages (from pybtex~=0.24->emmet-core>=0.78.0rc3->mp-api) (2.0.1)\n",
      "Requirement already satisfied: annotated-types>=0.6.0 in c:\\users\\tadic\\anaconda3\\envs\\jupyter\\lib\\site-packages (from pydantic>=2.0->emmet-core>=0.78.0rc3->mp-api) (0.6.0)\n",
      "Requirement already satisfied: pydantic-core==2.27.1 in c:\\users\\tadic\\anaconda3\\envs\\jupyter\\lib\\site-packages (from pydantic>=2.0->emmet-core>=0.78.0rc3->mp-api) (2.27.1)\n",
      "Requirement already satisfied: python-dotenv>=0.21.0 in c:\\users\\tadic\\anaconda3\\envs\\jupyter\\lib\\site-packages (from pydantic-settings>=2.0->emmet-core>=0.78.0rc3->mp-api) (1.1.0)\n",
      "Requirement already satisfied: paramiko>=2.7.2 in c:\\users\\tadic\\anaconda3\\envs\\jupyter\\lib\\site-packages (from sshtunnel>=0.1.5->maggma>=0.57.1->mp-api) (3.5.0)\n",
      "Requirement already satisfied: mpmath<1.4,>=1.1.0 in c:\\users\\tadic\\anaconda3\\envs\\jupyter\\lib\\site-packages (from sympy>=1.2->pymatgen!=2024.2.20,>=2022.3.7->mp-api) (1.3.0)\n",
      "Requirement already satisfied: colorama in c:\\users\\tadic\\anaconda3\\envs\\jupyter\\lib\\site-packages (from tqdm>=4.19.6->maggma>=0.57.1->mp-api) (0.4.6)\n",
      "Requirement already satisfied: bcrypt>=3.2 in c:\\users\\tadic\\anaconda3\\envs\\jupyter\\lib\\site-packages (from paramiko>=2.7.2->sshtunnel>=0.1.5->maggma>=0.57.1->mp-api) (3.2.0)\n",
      "Requirement already satisfied: cryptography>=3.3 in c:\\users\\tadic\\anaconda3\\envs\\jupyter\\lib\\site-packages (from paramiko>=2.7.2->sshtunnel>=0.1.5->maggma>=0.57.1->mp-api) (44.0.1)\n",
      "Requirement already satisfied: pynacl>=1.5 in c:\\users\\tadic\\anaconda3\\envs\\jupyter\\lib\\site-packages (from paramiko>=2.7.2->sshtunnel>=0.1.5->maggma>=0.57.1->mp-api) (1.5.0)\n",
      "Requirement already satisfied: cffi>=1.1 in c:\\users\\tadic\\anaconda3\\envs\\jupyter\\lib\\site-packages (from bcrypt>=3.2->paramiko>=2.7.2->sshtunnel>=0.1.5->maggma>=0.57.1->mp-api) (1.17.1)\n",
      "Requirement already satisfied: pycparser in c:\\users\\tadic\\anaconda3\\envs\\jupyter\\lib\\site-packages (from cffi>=1.1->bcrypt>=3.2->paramiko>=2.7.2->sshtunnel>=0.1.5->maggma>=0.57.1->mp-api) (2.21)\n"
     ]
    }
   ],
   "source": [
    "pip install mp-api pandas matplotlib"
   ]
  },
  {
   "cell_type": "code",
   "execution_count": 2,
   "id": "cb74aaa7-9d7b-4907-ae0f-bba209e2280f",
   "metadata": {},
   "outputs": [
    {
     "name": "stdin",
     "output_type": "stream",
     "text": [
      "Enter minimum band gap (eV):  1\n",
      "Enter maximum band gap (eV):  1.001\n"
     ]
    },
    {
     "name": "stderr",
     "output_type": "stream",
     "text": [
      "C:\\Users\\tadic\\AppData\\Local\\Temp\\ipykernel_26936\\698779826.py:14: DeprecationWarning: Accessing summary data through MPRester.summary is deprecated. Please use MPRester.materials.summary instead.\n",
      "  results = mpr.summary.search(\n",
      "Retrieving SummaryDoc documents: 100%|███████████████████████████████████████████████████████████| 11/11 [00:00<00:00, 41791.07it/s]\n"
     ]
    },
    {
     "data": {
      "image/png": "[encoded data removed]",
      "text/plain": [
       "<Figure size 800x500 with 1 Axes>"
      ]
     },
     "metadata": {},
     "output_type": "display_data"
    }
   ],
   "source": [
    "# 2.1 - band gap filter\n",
    "\n",
    "import os\n",
    "import numpy as np\n",
    "from mp_api.client import MPRester\n",
    "import matplotlib.pyplot as plt\n",
    "import pandas as pd\n",
    "\n",
    "API_KEY = \"predX42d0PDrOGcfMdmTpLTtvij6k0Ts\"\n",
    "\n",
    "def search_by_band_gap(min_gap, max_gap):\n",
    "    \"\"\"Fetch materials with band gaps in the specified range.\"\"\"\n",
    "    with MPRester(API_KEY) as mpr:\n",
    "        results = mpr.summary.search(\n",
    "            band_gap=(min_gap, max_gap),\n",
    "            fields=[\"material_id\", \"formula_pretty\", \"band_gap\"]\n",
    "        )\n",
    "\n",
    "    data = [\n",
    "        {\n",
    "            \"material_id\": doc.material_id,\n",
    "            \"formula_pretty\": doc.formula_pretty,\n",
    "            \"band_gap\": doc.band_gap\n",
    "        }\n",
    "        for doc in results\n",
    "        if doc.band_gap is not None\n",
    "    ]\n",
    "\n",
    "    return pd.DataFrame(data)\n",
    "\n",
    "def plot_band_gap_histogram(df):\n",
    "    \"\"\"Plot a histogram of band gaps.\"\"\"\n",
    "    plt.figure(figsize=(8, 5))\n",
    "    plt.hist(df[\"band_gap\"], bins=20, color=\"skyblue\", edgecolor=\"black\")\n",
    "    plt.title(\"Band Gap Distribution\")\n",
    "    plt.xlabel(\"Band Gap (eV)\")\n",
    "    plt.ylabel(\"Number of Materials\")\n",
    "    plt.tight_layout()\n",
    "    plt.show()\n",
    "\n",
    "def main():\n",
    "    try:\n",
    "        min_gap = float(input(\"Enter minimum band gap (eV): \").strip())\n",
    "        max_gap = float(input(\"Enter maximum band gap (eV): \").strip())\n",
    "    except ValueError:\n",
    "        return\n",
    "\n",
    "    if min_gap > max_gap:\n",
    "        return\n",
    "\n",
    "    df = search_by_band_gap(min_gap, max_gap)\n",
    "\n",
    "    if not df.empty:\n",
    "        plot_band_gap_histogram(df)\n",
    "\n",
    "if __name__ == \"__main__\":\n",
    "    main()\n"
   ]
  },
  {
   "cell_type": "code",
   "execution_count": null,
   "id": "4bbac561-835b-4c8f-9389-1e44fe1f08d3",
   "metadata": {},
   "outputs": [],
   "source": []
  }
 ],
 "metadata": {
  "kernelspec": {
   "display_name": "Python 3 (ipykernel)",
   "language": "python",
   "name": "python3"
  },
  "language_info": {
   "codemirror_mode": {
    "name": "ipython",
    "version": 3
   },
   "file_extension": ".py",
   "mimetype": "text/x-python",
   "name": "python",
   "nbconvert_exporter": "python",
   "pygments_lexer": "ipython3",
   "version": "3.13.2"
  }
 },
 "nbformat": 4,
 "nbformat_minor": 5
}
