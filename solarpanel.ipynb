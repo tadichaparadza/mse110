{
 "cells": [
  {
   "cell_type": "code",
   "execution_count": 3,
   "id": "f2fe1dce-771c-4c10-bfbf-abc433c9b1ee",
   "metadata": {},
   "outputs": [
    {
     "name": "stderr",
     "output_type": "stream",
     "text": [
      "C:\\Users\\tadic\\AppData\\Local\\Temp\\ipykernel_19928\\3482468466.py:10: DeprecationWarning: Accessing summary data through MPRester.summary is deprecated. Please use MPRester.materials.summary instead.\n",
      "  results = mpr.summary.search(\n",
      "Retrieving SummaryDoc documents: 100%|██████████████████████████████████████████████████████| 11183/11183 [00:03<00:00, 2894.19it/s]\n"
     ]
    },
    {
     "name": "stdout",
     "output_type": "stream",
     "text": [
      "Top 10 most stable materials (lowest energy above hull):\n",
      "\n",
      "   formula  band_gap  energy_above_hull\n",
      "    AgHgSI    1.3584                0.0\n",
      "  AgAsPbS3    1.3860                0.0\n",
      "   ZrN6O17    1.5707                0.0\n",
      "      ZrIN    1.2172                0.0\n",
      "   Ag3AsS3    1.6278                0.0\n",
      "   Ag5BiO4    1.5002                0.0\n",
      "    Ag2SO4    1.2289                0.0\n",
      "   Ag2TeS3    1.2999                0.0\n",
      "Na5SrNbAs4    1.1673                0.0\n",
      "  Zr6CCl14    1.2812                0.0\n"
     ]
    },
    {
     "name": "stdin",
     "output_type": "stream",
     "text": [
      "\n",
      "Do you want to plot energy vs band gap? (y/n):  n\n"
     ]
    }
   ],
   "source": [
    "from mp_api.client import MPRester\n",
    "import pandas as pd\n",
    "import matplotlib.pyplot as plt\n",
    "\n",
    "API_KEY = \"predX42d0PDrOGcfMdmTpLTtvij6k0Ts\"\n",
    "\n",
    "def find_solar_cell_candidates(min_gap=1.1, max_gap=1.7):\n",
    "    \"\"\"Find materials with ideal band gaps and rank by stability (energy above hull).\"\"\"\n",
    "    with MPRester(API_KEY) as mpr:\n",
    "        results = mpr.summary.search(\n",
    "            band_gap=(min_gap, max_gap),\n",
    "            fields=[\"material_id\", \"formula_pretty\", \"band_gap\", \"energy_above_hull\"]\n",
    "        )\n",
    "\n",
    "    data = [\n",
    "        {\n",
    "            \"material_id\": doc.material_id,\n",
    "            \"formula\": doc.formula_pretty,\n",
    "            \"band_gap\": doc.band_gap,\n",
    "            \"energy_above_hull\": doc.energy_above_hull\n",
    "        }\n",
    "        for doc in results\n",
    "        if doc.energy_above_hull is not None\n",
    "    ]\n",
    "\n",
    "    df = pd.DataFrame(data)\n",
    "    df = df.sort_values(by=\"energy_above_hull\")  # Lower is more stable\n",
    "    return df\n",
    "\n",
    "\n",
    "def plot_energy_vs_band_gap(df):\n",
    "    \"\"\"Visualize band gap vs energy above hull.\"\"\"\n",
    "    plt.figure(figsize=(8, 5))\n",
    "    plt.scatter(df[\"band_gap\"], df[\"energy_above_hull\"], alpha=0.7, color=\"green\", edgecolor=\"black\")\n",
    "    plt.title(\"Stability vs. Band Gap (Ideal Solar Cell Range)\")\n",
    "    plt.xlabel(\"Band Gap (eV)\")\n",
    "    plt.ylabel(\"Energy Above Hull (eV)\")\n",
    "    plt.grid(True)\n",
    "    plt.tight_layout()\n",
    "    plt.show()\n",
    "\n",
    "def main():\n",
    "    df = find_solar_cell_candidates()\n",
    "    \n",
    "    if df.empty:\n",
    "        print(\"No materials found in the ideal solar cell band gap range.\")\n",
    "        return\n",
    "\n",
    "    print(\"Top 10 most stable materials (lowest energy above hull):\\n\")\n",
    "    print(df[[\"formula\", \"band_gap\", \"energy_above_hull\"]].head(10).to_string(index=False))\n",
    "\n",
    "    plot = input(\"\\nDo you want to plot energy vs band gap? (y/n): \").strip().lower()\n",
    "    if plot == \"y\":\n",
    "        plot_energy_vs_band_gap(df)\n",
    "\n",
    "if __name__ == \"__main__\":\n",
    "    main()\n"
   ]
  },
  {
   "cell_type": "code",
   "execution_count": null,
   "id": "b894fd2c-0ba9-4e1b-bb12-16e95aeb9b4d",
   "metadata": {},
   "outputs": [],
   "source": []
  }
 ],
 "metadata": {
  "kernelspec": {
   "display_name": "Python 3 (ipykernel)",
   "language": "python",
   "name": "python3"
  },
  "language_info": {
   "codemirror_mode": {
    "name": "ipython",
    "version": 3
   },
   "file_extension": ".py",
   "mimetype": "text/x-python",
   "name": "python",
   "nbconvert_exporter": "python",
   "pygments_lexer": "ipython3",
   "version": "3.13.2"
  }
 },
 "nbformat": 4,
 "nbformat_minor": 5
}
